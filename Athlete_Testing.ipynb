{
 "cells": [
  {
   "cell_type": "code",
   "execution_count": 1,
   "id": "0884a4c4",
   "metadata": {},
   "outputs": [],
   "source": [
    "# import modules\n",
    "import glob\n",
    "import json\n",
    "import math\n",
    "import numpy as np\n",
    "import pandas as pd\n",
    "import re"
   ]
  },
  {
   "cell_type": "code",
   "execution_count": 2,
   "id": "2c6d9967",
   "metadata": {},
   "outputs": [
    {
     "name": "stdout",
     "output_type": "stream",
     "text": [
      "Reading: output_jsons\\CMJ_keypoints.json\n",
      "Reading: output_jsons\\DJ_keypoints.json\n",
      "Reading: output_jsons\\SL_CMJ_L_keypoints.json\n"
     ]
    }
   ],
   "source": [
    "# load the json files into a dataframe\n",
    "pose_keypoints = []\n",
    "\n",
    "json_files = glob.glob('output_jsons/*.json')\n",
    "\n",
    "for filename in json_files:\n",
    "    print(\"Reading: {}\".format(filename))\n",
    "    with open(filename, 'r') as file:\n",
    "        data = json.loads(file.read())\n",
    "        \n",
    "    df = pd.json_normalize(data, record_path=['people'])\n",
    "    pose_keypoints.append(pd.Series(df.pose_keypoints_2d[0]))\n",
    "    \n",
    "pose_keypoints = pd.concat(pose_keypoints, axis=1)\n",
    "pose_keypoints = pose_keypoints.T"
   ]
  },
  {
   "cell_type": "code",
   "execution_count": 3,
   "id": "64e08503",
   "metadata": {},
   "outputs": [],
   "source": [
    "# add columns names\n",
    "pose_keypoints.columns = [x + str(y) for y in range(25) for x in ['x', 'y', 'c']]"
   ]
  },
  {
   "cell_type": "code",
   "execution_count": 4,
   "id": "fd1ac3c5",
   "metadata": {},
   "outputs": [],
   "source": [
    "# isolate the required body parts\n",
    "l_hip = pose_keypoints[['x12', 'y12']]\n",
    "l_knee = pose_keypoints[['x13', 'y13']]\n",
    "l_ankle = pose_keypoints[['x14', 'y14']]"
   ]
  },
  {
   "cell_type": "code",
   "execution_count": 5,
   "id": "342ba2b1",
   "metadata": {},
   "outputs": [],
   "source": [
    "# create a function that calculates the angle between three points\n",
    "def angle_calc(p0, p1, p2):\n",
    "    try:\n",
    "        a = (p1[0] - p0[0])**2 + (p1[1] - p0[1])**2\n",
    "        b = (p1[0] - p2[0])**2 + (p1[1] - p2[1])**2\n",
    "        c = (p2[0] - p0[0])**2 + (p2[1] - p0[1])**2\n",
    "        angle = math.acos((a + b - c) / math.sqrt(4 * a * b)) * 180 / math.pi\n",
    "    except:\n",
    "        return 0\n",
    "    return round(angle, 4)"
   ]
  },
  {
   "cell_type": "code",
   "execution_count": 6,
   "id": "b36ad8ff",
   "metadata": {},
   "outputs": [
    {
     "name": "stdout",
     "output_type": "stream",
     "text": [
      "CMJ left knee angle: 92.969 degrees\n",
      "DJ left knee angle: 99.9884 degrees\n",
      "SLCMJL left knee angle: 106.6489 degrees\n"
     ]
    }
   ],
   "source": [
    "# calculate the angle between left hip, knee, and ankle\n",
    "for i, filename in enumerate(json_files):\n",
    "    angle = angle_calc(l_hip.iloc[i, :], l_knee.iloc[i, :], l_ankle.iloc[i, :])\n",
    "    print(re.sub('[^A-Z]', '', filename), \"left knee angle:\", angle, \"degrees\")"
   ]
  }
 ],
 "metadata": {
  "kernelspec": {
   "display_name": "Python 3 (ipykernel)",
   "language": "python",
   "name": "python3"
  },
  "language_info": {
   "codemirror_mode": {
    "name": "ipython",
    "version": 3
   },
   "file_extension": ".py",
   "mimetype": "text/x-python",
   "name": "python",
   "nbconvert_exporter": "python",
   "pygments_lexer": "ipython3",
   "version": "3.8.12"
  }
 },
 "nbformat": 4,
 "nbformat_minor": 5
}
